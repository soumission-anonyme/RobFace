{
 "cells": [
  {
   "cell_type": "markdown",
   "id": "8fc164f6",
   "metadata": {},
   "source": [
    "# 2. Optimisation\n",
    "use the pre-computed prediction for each sample (\"sample_features.pkl\") in optimisation. The pre-computed data is required."
   ]
  },
  {
   "cell_type": "code",
   "execution_count": 1,
   "id": "79894239",
   "metadata": {},
   "outputs": [],
   "source": [
    "import pickle\n",
    "import numpy as np\n",
    "import pandas as pd\n",
    "from tqdm.notebook import tqdm, trange\n",
    "\n",
    "sample_features = pd.read_pickle('sample_features.pkl')\n",
    "\n",
    "my_systems = {\n",
    "    'FaceNet':64.01,\n",
    "    'r50':76.63,\n",
    "    'EfficientNet':76.95,\n",
    "    'ReXNet':76.29,\n",
    "    'AttentionNet':74,\n",
    "    'RepVGG':76.61,\n",
    "    'GhostNet':77.78,\n",
    "    'TF-NAS':75.86,\n",
    "    'LightCNN':77.52\n",
    "}\n",
    "\n",
    "get_angle = lambda a, b: np.rad2deg(np.arccos((np.dot(a, b)/(np.linalg.norm(a)*np.linalg.norm(b) + 1e-7))))\n"
   ]
  },
  {
   "cell_type": "code",
   "execution_count": 2,
   "id": "9de30058",
   "metadata": {},
   "outputs": [],
   "source": [
    "sample_features = sample_features[~sample_features.index.duplicated(keep='first')]"
   ]
  },
  {
   "cell_type": "code",
   "execution_count": 3,
   "id": "4dce3c64",
   "metadata": {},
   "outputs": [],
   "source": [
    "P_ = {}\n",
    "\n",
    "for k, v in my_systems.items():\n",
    "    \n",
    "    P_[k] = {}\n",
    "    \n",
    "    for m1, m1_, m2, _ in pd.read_csv('test_suite/glasses_7.csv').values:\n",
    "\n",
    "\n",
    "        i1 = sample_features[k][m1]\n",
    "        i2 = sample_features[k][m2]\n",
    "        i1_ = sample_features[k][m1_]\n",
    "\n",
    "        y_pred = get_angle(i1, i2) < v\n",
    "        y_pred_ = get_angle(i1_, i2) < v\n",
    "\n",
    "        P_[k][m1, m1_, m2] = (y_pred == y_pred_)\n",
    "\n",
    "df = pd.DataFrame(P_)"
   ]
  },
  {
   "cell_type": "code",
   "execution_count": 4,
   "id": "c73290f9",
   "metadata": {},
   "outputs": [
    {
     "data": {
      "text/plain": [
       "143732"
      ]
     },
     "execution_count": 4,
     "metadata": {},
     "output_type": "execute_result"
    }
   ],
   "source": [
    "len(sample_features)"
   ]
  },
  {
   "cell_type": "code",
   "execution_count": 5,
   "id": "ed422875",
   "metadata": {},
   "outputs": [],
   "source": [
    "from scipy import stats\n",
    "import matplotlib.pyplot as plt\n",
    "\n",
    "def show_crr(silver, bronze, *groups):\n",
    "\n",
    "    ma = ['<', 'P', 'd']\n",
    "    cl = ['#ff0000', '#0000ff', '#00ff00', '#000000']\n",
    "    \n",
    "    fig=plt.figure(figsize=(4,4), dpi= 100, facecolor='w', edgecolor='k')\n",
    "\n",
    "    for i, g in enumerate(groups):\n",
    "        plt.plot(g, silver[g], color=cl[i], marker=ma[i], ms=9, label=f\"Group {i} silver\")\n",
    "        plt.plot(g, bronze[g], '-.', color=cl[i], marker=ma[i], ms=9, label=f\"Group {i}: crr {stats.pearsonr(bronze[g], silver[g])[0]:.2f}\")\n",
    "\n",
    "    plt.xlabel(\"System ID\")\n",
    "    plt.ylabel(\"True Positive Rate\")\n",
    "    # plt.title(f\"\")\n",
    "    plt.legend()\n",
    "    plt.show()\n",
    "    return stats.pearsonr(bronze[groups[0]], silver[groups[0]])[0]\n"
   ]
  },
  {
   "cell_type": "code",
   "execution_count": 6,
   "id": "cfea9d24",
   "metadata": {},
   "outputs": [
    {
     "data": {
      "text/plain": [
       "array([1.        , 0.33771724, 0.46218882, 0.37482386, 0.        ,\n",
       "       0.34664162, 0.44950681, 0.26867074, 0.92296853])"
      ]
     },
     "execution_count": 6,
     "metadata": {},
     "output_type": "execute_result"
    }
   ],
   "source": [
    "known_robustness = np.array([3764.00, 2354.00, 2619.00, 2433.00, 1635.00, 2373.00, 2592.00, 2207.00, 3600.00])\n",
    "known_robustness = (known_robustness - known_robustness.min())/ (known_robustness.max() - known_robustness.min())\n",
    "known_robustness"
   ]
  },
  {
   "cell_type": "code",
   "execution_count": 7,
   "id": "73634e0e",
   "metadata": {},
   "outputs": [],
   "source": [
    "from pymoo.core.problem import Problem\n",
    "from pymoo.algorithms.soo.nonconvex.ga import GA\n",
    "from pymoo.optimize import minimize\n",
    "\n",
    "from pymoo.operators.crossover.pntx import TwoPointCrossover\n",
    "from pymoo.operators.mutation.bitflip import BitflipMutation\n",
    "from pymoo.operators.sampling.rnd import BinaryRandomSampling\n",
    "\n",
    "from pymoo.core.population import Population\n",
    "\n",
    "\n",
    "\n",
    "def obj_func(inputs, x):\n",
    "    return - np.array(list(map(lambda b: obj_func_single(inputs, b), x)))\n",
    "\n",
    "class MyProblem(Problem):\n",
    "\n",
    "    def __init__(self, inputs):\n",
    "        self.inputs = inputs\n",
    "        super().__init__(n_var=self.inputs.shape[0], n_obj=1, n_constr=0, xl=0, xu=1, type_var=int)\n",
    "\n",
    "    def _evaluate(self, x, out, *args, **kwargs):\n",
    "        out[\"F\"] = obj_func(self.inputs, x)\n",
    "        # print(x.sum(1).min() - 1200)\n",
    "        # out[\"G\"] = x.sum(1) - 1200"
   ]
  },
  {
   "cell_type": "code",
   "execution_count": 8,
   "id": "0c1f4811",
   "metadata": {},
   "outputs": [],
   "source": [
    "indices = np.array([0, 2, 3, 4, 5, 6, 7, 8])\n",
    "tuning = np.array([0, 2, 3, 4, 5])\n",
    "testing = np.array([x for x in indices if x not in tuning])\n"
   ]
  },
  {
   "cell_type": "code",
   "execution_count": 9,
   "id": "6f061c5a",
   "metadata": {},
   "outputs": [
    {
     "name": "stdout",
     "output_type": "stream",
     "text": [
      "=================================================\n",
      "n_gen  |  n_eval  |     f_avg     |     f_min    \n",
      "=================================================\n",
      "     1 |      280 | -5.485054E-01 | -5.860460E-01\n",
      "     2 |      560 | -5.619168E-01 | -5.860460E-01\n",
      "     3 |      840 | -5.697375E-01 | -5.890359E-01\n",
      "     4 |     1120 | -5.770528E-01 | -5.940316E-01\n",
      "     5 |     1400 | -5.844239E-01 | -6.060361E-01\n",
      "     6 |     1680 | -5.911193E-01 | -6.097180E-01\n",
      "     7 |     1960 | -5.974778E-01 | -6.213703E-01\n",
      "     8 |     2240 | -6.039882E-01 | -6.276752E-01\n",
      "     9 |     2520 | -6.101497E-01 | -6.300050E-01\n",
      "    10 |     2800 | -6.166355E-01 | -6.347070E-01\n",
      "    11 |     3080 | -6.229123E-01 | -6.407456E-01\n",
      "    12 |     3360 | -6.287555E-01 | -6.482784E-01\n",
      "    13 |     3640 | -6.346797E-01 | -6.580046E-01\n",
      "    14 |     3920 | -6.409699E-01 | -6.580046E-01\n",
      "    15 |     4200 | -6.463866E-01 | -6.604266E-01\n",
      "    16 |     4480 | -6.516025E-01 | -6.654914E-01\n",
      "    17 |     4760 | -6.561991E-01 | -6.690055E-01\n",
      "    18 |     5040 | -6.604574E-01 | -6.744583E-01\n",
      "    19 |     5320 | -6.645798E-01 | -6.777784E-01\n",
      "    20 |     5600 | -6.686685E-01 | -6.791383E-01\n",
      "    21 |     5880 | -6.725661E-01 | -6.896304E-01\n",
      "    22 |     6160 | -6.764363E-01 | -6.896304E-01\n",
      "    23 |     6440 | -6.801898E-01 | -6.923577E-01\n",
      "    24 |     6720 | -6.839780E-01 | -6.976914E-01\n",
      "    25 |     7000 | -6.878375E-01 | -6.982842E-01\n",
      "    26 |     7280 | -6.910843E-01 | -7.013668E-01\n",
      "    27 |     7560 | -6.942156E-01 | -7.025645E-01\n",
      "    28 |     7840 | -6.973263E-01 | -7.050644E-01\n",
      "    29 |     8120 | -7.000095E-01 | -7.073166E-01\n",
      "    30 |     8400 | -7.024455E-01 | -7.111191E-01\n",
      "    31 |     8680 | -7.047277E-01 | -7.119521E-01\n",
      "    32 |     8960 | -7.070017E-01 | -7.163089E-01\n",
      "    33 |     9240 | -7.092804E-01 | -7.168625E-01\n",
      "    34 |     9520 | -7.115206E-01 | -7.185414E-01\n",
      "    35 |     9800 | -7.140711E-01 | -7.220562E-01\n",
      "    36 |    10080 | -7.167267E-01 | -7.264615E-01\n",
      "    37 |    10360 | -7.192040E-01 | -7.264615E-01\n",
      "    38 |    10640 | -7.215764E-01 | -7.290239E-01\n",
      "    39 |    10920 | -7.239307E-01 | -7.302330E-01\n",
      "    40 |    11200 | -7.260023E-01 | -7.312898E-01\n",
      "    41 |    11480 | -7.279610E-01 | -7.328242E-01\n",
      "    42 |    11760 | -7.297237E-01 | -7.351196E-01\n",
      "    43 |    12040 | -7.313653E-01 | -7.351387E-01\n",
      "    44 |    12320 | -7.329385E-01 | -7.387164E-01\n",
      "    45 |    12600 | -7.345597E-01 | -7.389406E-01\n",
      "    46 |    12880 | -7.362779E-01 | -7.400689E-01\n",
      "    47 |    13160 | -7.380517E-01 | -7.427185E-01\n",
      "    48 |    13440 | -7.397469E-01 | -7.448800E-01\n",
      "    49 |    13720 | -7.414188E-01 | -7.455427E-01\n",
      "    50 |    14000 | -7.429860E-01 | -7.471420E-01\n",
      "    51 |    14280 | -7.445184E-01 | -7.493875E-01\n",
      "    52 |    14560 | -7.460685E-01 | -7.527483E-01\n",
      "    53 |    14840 | -7.475879E-01 | -7.527483E-01\n",
      "    54 |    15120 | -7.491661E-01 | -7.545926E-01\n",
      "    55 |    15400 | -7.506808E-01 | -7.562932E-01\n",
      "    56 |    15680 | -7.521204E-01 | -7.562932E-01\n",
      "    57 |    15960 | -7.535498E-01 | -7.580584E-01\n",
      "    58 |    16240 | -7.549598E-01 | -7.587123E-01\n",
      "    59 |    16520 | -7.563751E-01 | -7.615505E-01\n",
      "    60 |    16800 | -7.578166E-01 | -7.638774E-01\n",
      "    61 |    17080 | -7.592924E-01 | -7.647248E-01\n",
      "    62 |    17360 | -7.607512E-01 | -7.667476E-01\n",
      "    63 |    17640 | -7.622482E-01 | -7.674933E-01\n",
      "    64 |    17920 | -7.638122E-01 | -7.679603E-01\n",
      "    65 |    18200 | -7.652817E-01 | -7.694480E-01\n",
      "    66 |    18480 | -7.667137E-01 | -7.699846E-01\n",
      "    67 |    18760 | -7.679579E-01 | -7.716869E-01\n",
      "    68 |    19040 | -7.691131E-01 | -7.738750E-01\n",
      "    69 |    19320 | -7.702752E-01 | -7.746539E-01\n",
      "    70 |    19600 | -7.715021E-01 | -7.750103E-01\n",
      "    71 |    19880 | -7.726830E-01 | -7.761405E-01\n",
      "    72 |    20160 | -7.738801E-01 | -7.780503E-01\n",
      "    73 |    20440 | -7.750702E-01 | -7.789562E-01\n",
      "    74 |    20720 | -7.762776E-01 | -7.800472E-01\n",
      "    75 |    21000 | -7.776033E-01 | -7.823652E-01\n",
      "    76 |    21280 | -7.788865E-01 | -7.823652E-01\n",
      "    77 |    21560 | -7.801629E-01 | -7.836070E-01\n",
      "    78 |    21840 | -7.814118E-01 | -7.865081E-01\n",
      "    79 |    22120 | -7.827055E-01 | -7.870780E-01\n",
      "    80 |    22400 | -7.839301E-01 | -7.881322E-01\n",
      "    81 |    22680 | -7.852190E-01 | -7.892021E-01\n",
      "    82 |    22960 | -7.865454E-01 | -7.914204E-01\n",
      "    83 |    23240 | -7.878128E-01 | -7.919699E-01\n",
      "    84 |    23520 | -7.890412E-01 | -7.941356E-01\n",
      "    85 |    23800 | -7.901851E-01 | -7.949161E-01\n",
      "    86 |    24080 | -7.913946E-01 | -7.958076E-01\n",
      "    87 |    24360 | -7.926893E-01 | -7.985396E-01\n",
      "    88 |    24640 | -7.937770E-01 | -7.985396E-01\n",
      "    89 |    24920 | -7.949286E-01 | -7.986929E-01\n",
      "    90 |    25200 | -7.961558E-01 | -7.997006E-01\n",
      "    91 |    25480 | -7.972474E-01 | -7.999891E-01\n",
      "    92 |    25760 | -7.982021E-01 | -8.012494E-01\n",
      "    93 |    26040 | -7.992326E-01 | -8.031216E-01\n",
      "    94 |    26320 | -8.003561E-01 | -8.040958E-01\n",
      "    95 |    26600 | -8.015127E-01 | -8.047871E-01\n",
      "    96 |    26880 | -8.026756E-01 | -8.064159E-01\n",
      "    97 |    27160 | -8.038393E-01 | -8.070952E-01\n",
      "    98 |    27440 | -8.049938E-01 | -8.086376E-01\n",
      "    99 |    27720 | -8.060340E-01 | -8.104101E-01\n",
      "   100 |    28000 | -8.071474E-01 | -8.104363E-01\n"
     ]
    }
   ],
   "source": [
    "def obj_func_single(inputs, variables):\n",
    "    bronze = np.nanmean(inputs[variables.astype(bool)], 0)\n",
    "    return stats.pearsonr(bronze[tuning], known_robustness[tuning])[0] + bronze[tuning].mean() * 1e-0 + bronze[tuning].std() * 1e-0 - variables.sum() / len(variables) #- max(1200, len(variables))  * 1e-2\n",
    "\n",
    "algorithm = GA(\n",
    "    pop_size=280,\n",
    "    sampling=BinaryRandomSampling(),\n",
    "    crossover=TwoPointCrossover(),\n",
    "    mutation=BitflipMutation(),\n",
    "    eliminate_duplicates=True)\n",
    "\n",
    "\n",
    "releases = []\n",
    "\n",
    "for r in range(2):\n",
    "    df_ = - df.iloc[r::2,]\n",
    "    res = minimize(\n",
    "        MyProblem(df_.values.astype(int)),\n",
    "        algorithm,\n",
    "        ('n_gen', 100),\n",
    "        verbose=True)\n",
    "\n",
    "    predicted_robustness = df_.values[res.X.astype(bool)].mean(0)\n",
    "    predicted_robustness = (predicted_robustness - predicted_robustness[indices].min())/ (predicted_robustness[indices].max() - predicted_robustness[indices].min())\n",
    "    break"
   ]
  },
  {
   "cell_type": "code",
   "execution_count": 10,
   "id": "cfcac658",
   "metadata": {},
   "outputs": [
    {
     "data": {
      "image/png": "[encoded data removed]",
      "text/plain": [
       "<Figure size 400x400 with 1 Axes>"
      ]
     },
     "metadata": {},
     "output_type": "display_data"
    },
    {
     "name": "stdout",
     "output_type": "stream",
     "text": [
      "[1.    5.683 0.419 0.347 0.    0.353 0.323 0.269 0.533]\n",
      "1006\n"
     ]
    }
   ],
   "source": [
    "crr = show_crr(known_robustness, predicted_robustness, indices, tuning, testing)\n",
    "print(np.round(predicted_robustness, 3))\n",
    "print(res.X.sum())\n",
    "releases.append(list(df_[res.X].index))\n"
   ]
  }
 ],
 "metadata": {
  "kernelspec": {
   "display_name": "Python 3 (ipykernel)",
   "language": "python",
   "name": "python3"
  },
  "language_info": {
   "codemirror_mode": {
    "name": "ipython",
    "version": 3
   },
   "file_extension": ".py",
   "mimetype": "text/x-python",
   "name": "python",
   "nbconvert_exporter": "python",
   "pygments_lexer": "ipython3",
   "version": "3.9.12"
  }
 },
 "nbformat": 4,
 "nbformat_minor": 5
}
